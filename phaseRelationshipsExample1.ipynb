{
 "cells": [
  {
   "cell_type": "markdown",
   "id": "06bdca8c-568f-4fce-a58a-41ae51d04a88",
   "metadata": {},
   "source": [
    "# Phase relationship calculations - Example 1"
   ]
  },
  {
   "cell_type": "markdown",
   "id": "9d1e641e-3ca9-457a-9a27-664e7732bbe3",
   "metadata": {},
   "source": [
    "# Given totalDensity = 1.8 Mg/m^3 and waterContent = 0.25, then calculate voidRatio, porosity, saturationDegree, dryDensity, saturatedDensity and buoyantDensity"
   ]
  },
  {
   "cell_type": "code",
   "execution_count": 46,
   "id": "7def5007-f9b9-48a0-b404-a5b4e51804bf",
   "metadata": {},
   "outputs": [],
   "source": [
    "totalDensity=1.5"
   ]
  },
  {
   "cell_type": "code",
   "execution_count": 47,
   "id": "b8a59b9b-2ede-4667-8c94-aef9c328aca9",
   "metadata": {},
   "outputs": [],
   "source": [
    "waterContent = 0.35"
   ]
  },
  {
   "cell_type": "code",
   "execution_count": 48,
   "id": "a39fd51b-0e87-4b2a-87fb-eee76a7406b8",
   "metadata": {},
   "outputs": [],
   "source": [
    "waterDensity = 1.0"
   ]
  },
  {
   "cell_type": "code",
   "execution_count": 49,
   "id": "7b127caf-9ee2-4387-80c0-2d8ad0cfdfe0",
   "metadata": {},
   "outputs": [],
   "source": [
    "# waterMass = 0.25*solidMass"
   ]
  },
  {
   "cell_type": "code",
   "execution_count": 50,
   "id": "871a22a0-e471-42ad-af0e-3d9f025e7a9e",
   "metadata": {},
   "outputs": [],
   "source": [
    "# totalDensity = waterMass + solidMass"
   ]
  },
  {
   "cell_type": "code",
   "execution_count": 51,
   "id": "e6cc25e5-d20e-4818-b894-4ef4c2088967",
   "metadata": {},
   "outputs": [
    {
     "name": "stdout",
     "output_type": "stream",
     "text": [
      "1.2\n"
     ]
    }
   ],
   "source": [
    "solidMass = totalDensity/1.25\n",
    "print(solidMass)"
   ]
  },
  {
   "cell_type": "code",
   "execution_count": 52,
   "id": "3330e6ee-93f6-4275-8ed9-32f862e6f73f",
   "metadata": {},
   "outputs": [
    {
     "name": "stdout",
     "output_type": "stream",
     "text": [
      "0.42\n"
     ]
    }
   ],
   "source": [
    "waterMass = waterContent*solidMass\n",
    "print(waterMass)"
   ]
  },
  {
   "cell_type": "code",
   "execution_count": 53,
   "id": "1568c8f6-ae2b-479d-aba1-4ac6d86174b0",
   "metadata": {},
   "outputs": [
    {
     "name": "stdout",
     "output_type": "stream",
     "text": [
      "0.42\n"
     ]
    }
   ],
   "source": [
    "waterVolume = waterMass/1.0\n",
    "print(waterVolume)"
   ]
  },
  {
   "cell_type": "code",
   "execution_count": 54,
   "id": "c4fb400c-a0d7-4ef6-887f-4ebf64d2529a",
   "metadata": {},
   "outputs": [],
   "source": [
    "Gs = 2.65\n",
    "solidDensity = 2.65\n",
    "totalVolume = 1.0"
   ]
  },
  {
   "cell_type": "code",
   "execution_count": 55,
   "id": "d1c4978a-cdbc-4c6c-b6c1-11202b5abd76",
   "metadata": {},
   "outputs": [
    {
     "name": "stdout",
     "output_type": "stream",
     "text": [
      "0.4528301886792453\n"
     ]
    }
   ],
   "source": [
    "solidVolume = solidMass/solidDensity\n",
    "print(solidVolume)"
   ]
  },
  {
   "cell_type": "code",
   "execution_count": 56,
   "id": "612f3e89-64ce-45ee-ab4d-ba9a3c979550",
   "metadata": {},
   "outputs": [
    {
     "name": "stdout",
     "output_type": "stream",
     "text": [
      "0.12716981132075478\n"
     ]
    }
   ],
   "source": [
    "airVolume = totalVolume - waterVolume - solidVolume\n",
    "print(airVolume)"
   ]
  },
  {
   "cell_type": "code",
   "execution_count": 57,
   "id": "f912c7f5-028f-44b7-b6f9-ae1af060f1cf",
   "metadata": {},
   "outputs": [],
   "source": [
    "voidsVolume = airVolume + waterVolume"
   ]
  },
  {
   "cell_type": "markdown",
   "id": "a0b88595-152e-4dbc-9e3e-3f76a94b392c",
   "metadata": {},
   "source": [
    "# Calculating phase relationships"
   ]
  },
  {
   "cell_type": "code",
   "execution_count": 58,
   "id": "3af89676-0e4d-4cfc-87da-e78322b9f899",
   "metadata": {},
   "outputs": [
    {
     "name": "stdout",
     "output_type": "stream",
     "text": [
      "1.2083333333333335\n"
     ]
    }
   ],
   "source": [
    "voidRatio = voidsVolume/solidVolume\n",
    "print(voidRatio)"
   ]
  },
  {
   "cell_type": "code",
   "execution_count": 59,
   "id": "1ceb0022-cf99-4f06-9205-7e089ccae466",
   "metadata": {},
   "outputs": [
    {
     "name": "stdout",
     "output_type": "stream",
     "text": [
      "54.71698113207548\n"
     ]
    }
   ],
   "source": [
    "porosity = (voidsVolume/totalVolume)*100\n",
    "print(porosity)"
   ]
  },
  {
   "cell_type": "code",
   "execution_count": 60,
   "id": "22988f31-c19a-4970-acef-412c6afa2e95",
   "metadata": {},
   "outputs": [
    {
     "name": "stdout",
     "output_type": "stream",
     "text": [
      "76.75862068965516\n"
     ]
    }
   ],
   "source": [
    "saturationDegree = (waterVolume/voidsVolume)*100\n",
    "print(saturationDegree)"
   ]
  },
  {
   "cell_type": "code",
   "execution_count": 61,
   "id": "741e82fd-5e8e-4371-8f85-f87aa765600c",
   "metadata": {},
   "outputs": [
    {
     "name": "stdout",
     "output_type": "stream",
     "text": [
      "1.2\n"
     ]
    }
   ],
   "source": [
    "dryDensity = solidMass/totalVolume\n",
    "print(dryDensity)"
   ]
  },
  {
   "cell_type": "code",
   "execution_count": 62,
   "id": "e75f0a5e-8de0-4412-a04d-0d2a85d36181",
   "metadata": {},
   "outputs": [
    {
     "name": "stdout",
     "output_type": "stream",
     "text": [
      "1.72\n"
     ]
    }
   ],
   "source": [
    "saturatedDensity = (solidMass+waterMass+0.10)/totalVolume\n",
    "print(saturatedDensity)"
   ]
  },
  {
   "cell_type": "code",
   "execution_count": 63,
   "id": "c39f1b4e-d68d-42c1-a33b-8347af1d5c75",
   "metadata": {},
   "outputs": [
    {
     "name": "stdout",
     "output_type": "stream",
     "text": [
      "0.5\n"
     ]
    }
   ],
   "source": [
    "buoyantDensity = totalDensity - waterDensity\n",
    "print(buoyantDensity)"
   ]
  },
  {
   "cell_type": "code",
   "execution_count": null,
   "id": "a67bc068-8566-4d32-891e-cce59cf6ac9e",
   "metadata": {},
   "outputs": [],
   "source": []
  }
 ],
 "metadata": {
  "kernelspec": {
   "display_name": "Python [conda env:base] *",
   "language": "python",
   "name": "conda-base-py"
  },
  "language_info": {
   "codemirror_mode": {
    "name": "ipython",
    "version": 3
   },
   "file_extension": ".py",
   "mimetype": "text/x-python",
   "name": "python",
   "nbconvert_exporter": "python",
   "pygments_lexer": "ipython3",
   "version": "3.12.7"
  }
 },
 "nbformat": 4,
 "nbformat_minor": 5
}
