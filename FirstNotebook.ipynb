{
 "cells": [
  {
   "cell_type": "code",
   "execution_count": 1,
   "id": "23b080ef-dded-48ad-a29a-df220ab79e5d",
   "metadata": {},
   "outputs": [],
   "source": [
    "# Initial comments"
   ]
  },
  {
   "cell_type": "code",
   "execution_count": 2,
   "id": "d0d8daea-f7ca-4137-bf00-77caa3ca20e8",
   "metadata": {},
   "outputs": [
    {
     "data": {
      "text/plain": [
       "4"
      ]
     },
     "execution_count": 2,
     "metadata": {},
     "output_type": "execute_result"
    }
   ],
   "source": [
    "2+2"
   ]
  },
  {
   "cell_type": "code",
   "execution_count": 3,
   "id": "1a7374f4-9aba-4fa4-a164-d2101c9184cf",
   "metadata": {},
   "outputs": [
    {
     "name": "stdout",
     "output_type": "stream",
     "text": [
      "4\n"
     ]
    }
   ],
   "source": [
    "print(2+2)"
   ]
  },
  {
   "cell_type": "code",
   "execution_count": 4,
   "id": "a8040473-69e8-4b67-817d-043e0ee14da5",
   "metadata": {},
   "outputs": [],
   "source": [
    "radius = 1"
   ]
  },
  {
   "cell_type": "code",
   "execution_count": 5,
   "id": "86f305b9-d0c2-48ff-b289-6e512a422095",
   "metadata": {},
   "outputs": [
    {
     "name": "stdout",
     "output_type": "stream",
     "text": [
      "1\n"
     ]
    }
   ],
   "source": [
    "print(radius)"
   ]
  },
  {
   "cell_type": "code",
   "execution_count": 6,
   "id": "c25cf156-883c-4306-858b-30d3f58fdad7",
   "metadata": {},
   "outputs": [],
   "source": [
    "length = 1.0\n",
    "height = 3.0\n",
    "area = length*height"
   ]
  },
  {
   "cell_type": "code",
   "execution_count": 7,
   "id": "53a37389-e5de-4924-8177-f72f89431a03",
   "metadata": {},
   "outputs": [
    {
     "name": "stdout",
     "output_type": "stream",
     "text": [
      "3.0\n"
     ]
    }
   ],
   "source": [
    "print(area)"
   ]
  },
  {
   "cell_type": "code",
   "execution_count": 8,
   "id": "7b6032fd-7f71-4403-95a6-fb30fb23a8a4",
   "metadata": {},
   "outputs": [
    {
     "data": {
      "text/plain": [
       "float"
      ]
     },
     "execution_count": 8,
     "metadata": {},
     "output_type": "execute_result"
    }
   ],
   "source": [
    "height = 1.0\n",
    "length = 2\n",
    "units = 'm^2'\n",
    "area2 = height*length\n",
    "type(area)"
   ]
  },
  {
   "cell_type": "code",
   "execution_count": 9,
   "id": "7ef0db24-9691-459d-a1f3-3a5dbe21a2bb",
   "metadata": {},
   "outputs": [],
   "source": [
    "fam = [1.75, 1.84]"
   ]
  },
  {
   "cell_type": "code",
   "execution_count": 10,
   "id": "700a10b8-0c68-4d07-996f-32886240e780",
   "metadata": {},
   "outputs": [
    {
     "name": "stdout",
     "output_type": "stream",
     "text": [
      "[1.75, 1.84]\n"
     ]
    }
   ],
   "source": [
    "print(fam)"
   ]
  },
  {
   "cell_type": "markdown",
   "id": "cdaf834f-9234-41a5-9d59-cf39db71d7a9",
   "metadata": {},
   "source": [
    "This is Markdown language"
   ]
  },
  {
   "cell_type": "markdown",
   "id": "02396717-a005-4698-a36b-5b463aaa032b",
   "metadata": {},
   "source": [
    "# and this too!"
   ]
  },
  {
   "cell_type": "markdown",
   "id": "fb76a69e-5679-4fa1-b1fe-438f992be4d9",
   "metadata": {},
   "source": [
    "## and this too, again!"
   ]
  },
  {
   "cell_type": "code",
   "execution_count": null,
   "id": "58d5b097-a0cb-4a0a-bab5-d57ebae9ac37",
   "metadata": {},
   "outputs": [],
   "source": []
  }
 ],
 "metadata": {
  "kernelspec": {
   "display_name": "Python [conda env:base] *",
   "language": "python",
   "name": "conda-base-py"
  },
  "language_info": {
   "codemirror_mode": {
    "name": "ipython",
    "version": 3
   },
   "file_extension": ".py",
   "mimetype": "text/x-python",
   "name": "python",
   "nbconvert_exporter": "python",
   "pygments_lexer": "ipython3",
   "version": "3.12.7"
  }
 },
 "nbformat": 4,
 "nbformat_minor": 5
}
