{
 "cells": [
  {
   "cell_type": "markdown",
   "id": "aa573ee0-2335-4f5f-aad2-3543fca1b852",
   "metadata": {},
   "source": [
    "This will be the first example of using a Jupyter notebook"
   ]
  },
  {
   "cell_type": "markdown",
   "id": "c054970a-a952-465b-9ae5-bbd46f3ac6a3",
   "metadata": {},
   "source": [
    "# Example 1"
   ]
  },
  {
   "cell_type": "markdown",
   "id": "10b04746-80f1-4c43-82ac-d06b0c6f8ce0",
   "metadata": {},
   "source": [
    "## Variables"
   ]
  },
  {
   "cell_type": "markdown",
   "id": "28accf21-27c6-49ed-b082-0b3d8585a749",
   "metadata": {},
   "source": [
    "Standard text"
   ]
  },
  {
   "cell_type": "code",
   "execution_count": 40,
   "id": "381d9523-3e25-46da-9f07-786a3106f189",
   "metadata": {},
   "outputs": [],
   "source": [
    "# This is the wzy to write a comment in Python"
   ]
  },
  {
   "cell_type": "code",
   "execution_count": 41,
   "id": "b02260d9-aeed-4fbb-b857-5974e71d979b",
   "metadata": {},
   "outputs": [],
   "source": [
    "# Comment lines are not read by the computer!"
   ]
  },
  {
   "cell_type": "code",
   "execution_count": 42,
   "id": "0152528c-ede4-40ef-9a82-3f1ff011b393",
   "metadata": {},
   "outputs": [
    {
     "data": {
      "text/plain": [
       "4"
      ]
     },
     "execution_count": 42,
     "metadata": {},
     "output_type": "execute_result"
    }
   ],
   "source": [
    "2+2"
   ]
  },
  {
   "cell_type": "code",
   "execution_count": 43,
   "id": "ed0d0adb-4bfa-4bb0-b8f6-5448d868157c",
   "metadata": {},
   "outputs": [
    {
     "data": {
      "text/plain": [
       "0"
      ]
     },
     "execution_count": 43,
     "metadata": {},
     "output_type": "execute_result"
    }
   ],
   "source": [
    "2-2 # This is subtraction"
   ]
  },
  {
   "cell_type": "code",
   "execution_count": 44,
   "id": "26817e09-441a-4964-ae9d-9c78c34c8699",
   "metadata": {},
   "outputs": [
    {
     "data": {
      "text/plain": [
       "4"
      ]
     },
     "execution_count": 44,
     "metadata": {},
     "output_type": "execute_result"
    }
   ],
   "source": [
    "2*2 # Product is done with *"
   ]
  },
  {
   "cell_type": "code",
   "execution_count": 45,
   "id": "671d052e-6eef-4bef-810f-330d8a526a2b",
   "metadata": {},
   "outputs": [
    {
     "data": {
      "text/plain": [
       "1.0"
      ]
     },
     "execution_count": 45,
     "metadata": {},
     "output_type": "execute_result"
    }
   ],
   "source": [
    "2/2 # Division"
   ]
  },
  {
   "cell_type": "code",
   "execution_count": 46,
   "id": "831c0bcd-8d6c-4c3a-b0ac-2c04cc4e7c7b",
   "metadata": {},
   "outputs": [
    {
     "data": {
      "text/plain": [
       "4"
      ]
     },
     "execution_count": 46,
     "metadata": {},
     "output_type": "execute_result"
    }
   ],
   "source": [
    "2**2 # Power/exponent"
   ]
  },
  {
   "cell_type": "code",
   "execution_count": 47,
   "id": "c02eb049-3a3d-4938-b1fc-69473306323d",
   "metadata": {},
   "outputs": [
    {
     "data": {
      "text/plain": [
       "17"
      ]
     },
     "execution_count": 47,
     "metadata": {},
     "output_type": "execute_result"
    }
   ],
   "source": [
    "2 + 3 * 5"
   ]
  },
  {
   "cell_type": "code",
   "execution_count": 48,
   "id": "34f910e7-1fe4-4dcd-8b6a-8246e7e2a860",
   "metadata": {},
   "outputs": [
    {
     "data": {
      "text/plain": [
       "25"
      ]
     },
     "execution_count": 48,
     "metadata": {},
     "output_type": "execute_result"
    }
   ],
   "source": [
    "(2+3)*5"
   ]
  },
  {
   "cell_type": "code",
   "execution_count": 49,
   "id": "695a50b5-0b45-4d1e-9342-d3c8e2c7ca13",
   "metadata": {},
   "outputs": [
    {
     "name": "stdout",
     "output_type": "stream",
     "text": [
      "25\n"
     ]
    }
   ],
   "source": [
    "print((2+3)*5)"
   ]
  },
  {
   "cell_type": "code",
   "execution_count": 50,
   "id": "b2240c94-1b6d-4750-a66e-1c554f15f238",
   "metadata": {},
   "outputs": [],
   "source": [
    "radius = 4.0"
   ]
  },
  {
   "cell_type": "code",
   "execution_count": 51,
   "id": "eca5410e-faad-4a0a-8475-c158f5e2b565",
   "metadata": {},
   "outputs": [
    {
     "data": {
      "text/plain": [
       "4.0"
      ]
     },
     "execution_count": 51,
     "metadata": {},
     "output_type": "execute_result"
    }
   ],
   "source": [
    "radius"
   ]
  },
  {
   "cell_type": "code",
   "execution_count": 52,
   "id": "38399ec0-98fc-4ab5-8e85-b62c88901d5c",
   "metadata": {},
   "outputs": [
    {
     "name": "stdout",
     "output_type": "stream",
     "text": [
      "4.0\n"
     ]
    }
   ],
   "source": [
    "print(radius)"
   ]
  },
  {
   "cell_type": "code",
   "execution_count": 53,
   "id": "16b1293a-2a28-4bfe-8038-4675fa23a8cd",
   "metadata": {},
   "outputs": [
    {
     "data": {
      "text/plain": [
       "4.0"
      ]
     },
     "execution_count": 53,
     "metadata": {},
     "output_type": "execute_result"
    }
   ],
   "source": [
    "radius"
   ]
  },
  {
   "cell_type": "code",
   "execution_count": 54,
   "id": "3adf35da-cdbe-48ac-9280-ba51e4edfb6c",
   "metadata": {},
   "outputs": [],
   "source": [
    "rectangleLength = 4.0"
   ]
  },
  {
   "cell_type": "code",
   "execution_count": 58,
   "id": "d023b931-f1b2-4b9d-8398-0d4b693e66cd",
   "metadata": {},
   "outputs": [],
   "source": [
    "rectangleHeight = 5.0"
   ]
  },
  {
   "cell_type": "code",
   "execution_count": 59,
   "id": "2106ae18-22bb-4d8d-8750-86fc14b1dd6b",
   "metadata": {},
   "outputs": [],
   "source": [
    "rectangleArea = rectangleLength*rectangleHeight"
   ]
  },
  {
   "cell_type": "code",
   "execution_count": 60,
   "id": "a43c7560-0446-4c5f-a60c-93de8ed42447",
   "metadata": {},
   "outputs": [
    {
     "name": "stdout",
     "output_type": "stream",
     "text": [
      "20.0\n"
     ]
    }
   ],
   "source": [
    "print(rectangleArea)"
   ]
  },
  {
   "cell_type": "code",
   "execution_count": 62,
   "id": "0ddc1075-8eb4-4c1f-9c49-7a97378a56af",
   "metadata": {},
   "outputs": [],
   "source": [
    "height = 1.0\n",
    "length = 2\n",
    "units = 'square metres'\n",
    "area = height*length\n",
    "yes = True # Boolean variable (True/False)"
   ]
  },
  {
   "cell_type": "code",
   "execution_count": 63,
   "id": "06a48da1-3319-4f30-a1d4-b33a18508bf9",
   "metadata": {},
   "outputs": [
    {
     "data": {
      "text/plain": [
       "float"
      ]
     },
     "execution_count": 63,
     "metadata": {},
     "output_type": "execute_result"
    }
   ],
   "source": [
    "type(height)"
   ]
  },
  {
   "cell_type": "code",
   "execution_count": 64,
   "id": "07f27d7d-9c63-4cd3-b5e7-d74093657d99",
   "metadata": {},
   "outputs": [
    {
     "data": {
      "text/plain": [
       "int"
      ]
     },
     "execution_count": 64,
     "metadata": {},
     "output_type": "execute_result"
    }
   ],
   "source": [
    "type(length)"
   ]
  },
  {
   "cell_type": "code",
   "execution_count": 65,
   "id": "443c0a71-18c2-49c3-a0ab-ee8ffdd18d9b",
   "metadata": {},
   "outputs": [
    {
     "data": {
      "text/plain": [
       "float"
      ]
     },
     "execution_count": 65,
     "metadata": {},
     "output_type": "execute_result"
    }
   ],
   "source": [
    "type(area)"
   ]
  },
  {
   "cell_type": "code",
   "execution_count": 66,
   "id": "7569dfe0-bdeb-4cbc-9179-351b823c6096",
   "metadata": {},
   "outputs": [
    {
     "data": {
      "text/plain": [
       "bool"
      ]
     },
     "execution_count": 66,
     "metadata": {},
     "output_type": "execute_result"
    }
   ],
   "source": [
    "type(yes)"
   ]
  },
  {
   "cell_type": "code",
   "execution_count": 67,
   "id": "e247e27c-41c9-4a21-b4d3-3a2b7481d17c",
   "metadata": {},
   "outputs": [
    {
     "data": {
      "text/plain": [
       "str"
      ]
     },
     "execution_count": 67,
     "metadata": {},
     "output_type": "execute_result"
    }
   ],
   "source": [
    "type(units)"
   ]
  },
  {
   "cell_type": "code",
   "execution_count": 68,
   "id": "a92d8916-382b-4dd9-871a-ec4e69303e1f",
   "metadata": {},
   "outputs": [],
   "source": [
    "height1 = 1.75"
   ]
  },
  {
   "cell_type": "code",
   "execution_count": 69,
   "id": "8ff8c4dc-1553-4064-8a2b-16fd791dea3a",
   "metadata": {},
   "outputs": [],
   "source": [
    "height2 = 1.75"
   ]
  },
  {
   "cell_type": "code",
   "execution_count": 70,
   "id": "58032f6f-6b58-4aea-885a-1b52f01778dc",
   "metadata": {},
   "outputs": [],
   "source": [
    "height3 = 1.78"
   ]
  },
  {
   "cell_type": "code",
   "execution_count": 71,
   "id": "838dea73-ea30-4080-b50e-93641d7ed2ca",
   "metadata": {},
   "outputs": [],
   "source": [
    "height4 = 1.54"
   ]
  },
  {
   "cell_type": "code",
   "execution_count": 72,
   "id": "ba136579-fb3a-4799-854a-c707fd4496c2",
   "metadata": {},
   "outputs": [],
   "source": [
    "height5 = 1.65"
   ]
  },
  {
   "cell_type": "markdown",
   "id": "31f28edd-c33d-4c0b-b92c-5ee6d2116018",
   "metadata": {},
   "source": [
    "# Working with lists"
   ]
  },
  {
   "cell_type": "markdown",
   "id": "9a2069b3-2a74-448c-b2b0-cc0992f91de8",
   "metadata": {},
   "source": [
    "In the lines below there are examples of declaring and changing lists contents via their indexes"
   ]
  },
  {
   "cell_type": "code",
   "execution_count": 74,
   "id": "a63940a3-383b-429a-839a-134b269c6e25",
   "metadata": {},
   "outputs": [
    {
     "name": "stdout",
     "output_type": "stream",
     "text": [
      "[1.75, 1.75, 1.78, 1.54, 1.65]\n"
     ]
    }
   ],
   "source": [
    "print(heights)"
   ]
  },
  {
   "cell_type": "code",
   "execution_count": 75,
   "id": "4fe2ea94-d684-44aa-b351-effdcf5b2e9a",
   "metadata": {},
   "outputs": [],
   "source": [
    "friends = [\"Zhongxuan\", 1.54, \"Lizhong\", 1.65]"
   ]
  },
  {
   "cell_type": "code",
   "execution_count": 76,
   "id": "b1374c15-3185-4638-9e56-db1737b4161c",
   "metadata": {},
   "outputs": [
    {
     "name": "stdout",
     "output_type": "stream",
     "text": [
      "['Zhongxuan', 1.54, 'Lizhong', 1.65]\n"
     ]
    }
   ],
   "source": [
    "print(friends)"
   ]
  },
  {
   "cell_type": "code",
   "execution_count": 77,
   "id": "60fe3338-9f8c-43ae-8665-4800b05c3946",
   "metadata": {},
   "outputs": [
    {
     "data": {
      "text/plain": [
       "list"
      ]
     },
     "execution_count": 77,
     "metadata": {},
     "output_type": "execute_result"
    }
   ],
   "source": [
    "type(friends)"
   ]
  },
  {
   "cell_type": "code",
   "execution_count": 78,
   "id": "6dcfd027-87c9-4ac2-8416-f11d5e6478e6",
   "metadata": {},
   "outputs": [],
   "source": [
    "friends = [[\"Zhongxuan\", 1.73],\n",
    "           [\"Lizhong\", 1.65]]"
   ]
  },
  {
   "cell_type": "code",
   "execution_count": 79,
   "id": "d77a6bea-24b6-4c4e-9e81-c0d3d8d00c78",
   "metadata": {},
   "outputs": [
    {
     "name": "stdout",
     "output_type": "stream",
     "text": [
      "[['Zhongxuan', 1.73], ['Lizhong', 1.65]]\n"
     ]
    }
   ],
   "source": [
    "print(friends)"
   ]
  },
  {
   "cell_type": "code",
   "execution_count": 80,
   "id": "28bd4184-2731-4df0-a49e-72941c6c122b",
   "metadata": {},
   "outputs": [
    {
     "data": {
      "text/plain": [
       "list"
      ]
     },
     "execution_count": 80,
     "metadata": {},
     "output_type": "execute_result"
    }
   ],
   "source": [
    "type(friends)"
   ]
  },
  {
   "cell_type": "code",
   "execution_count": 81,
   "id": "c5a32c71-3cfa-4619-92bf-612c533f8f72",
   "metadata": {},
   "outputs": [],
   "source": [
    "friends = [\"Zhongxuan\", 1.54, \"Lizhong\", 1.65]"
   ]
  },
  {
   "cell_type": "code",
   "execution_count": 82,
   "id": "598346b6-8b43-42d7-bf09-756fbff6b652",
   "metadata": {},
   "outputs": [
    {
     "data": {
      "text/plain": [
       "1.65"
      ]
     },
     "execution_count": 82,
     "metadata": {},
     "output_type": "execute_result"
    }
   ],
   "source": [
    "friends[3]"
   ]
  },
  {
   "cell_type": "code",
   "execution_count": 83,
   "id": "0fd82826-6536-4372-b10e-3b8d945e1f84",
   "metadata": {},
   "outputs": [
    {
     "data": {
      "text/plain": [
       "'Zhongxuan'"
      ]
     },
     "execution_count": 83,
     "metadata": {},
     "output_type": "execute_result"
    }
   ],
   "source": [
    "friends[0]"
   ]
  },
  {
   "cell_type": "code",
   "execution_count": 84,
   "id": "55c2e543-87a6-476b-a5fd-4bab817e1f61",
   "metadata": {},
   "outputs": [
    {
     "data": {
      "text/plain": [
       "1.54"
      ]
     },
     "execution_count": 84,
     "metadata": {},
     "output_type": "execute_result"
    }
   ],
   "source": [
    "friends[1]"
   ]
  },
  {
   "cell_type": "code",
   "execution_count": 85,
   "id": "42d4e23a-5b8b-4cfc-ba86-d3c6ea508ea7",
   "metadata": {},
   "outputs": [
    {
     "data": {
      "text/plain": [
       "'Lizhong'"
      ]
     },
     "execution_count": 85,
     "metadata": {},
     "output_type": "execute_result"
    }
   ],
   "source": [
    "friends[2]"
   ]
  },
  {
   "cell_type": "code",
   "execution_count": 86,
   "id": "ca3f0ffd-d0cf-4036-85bb-bef959cdbefc",
   "metadata": {},
   "outputs": [
    {
     "data": {
      "text/plain": [
       "1.65"
      ]
     },
     "execution_count": 86,
     "metadata": {},
     "output_type": "execute_result"
    }
   ],
   "source": [
    "friends[-1]"
   ]
  },
  {
   "cell_type": "code",
   "execution_count": 87,
   "id": "912b5da7-240d-40b9-b1c6-1636af83d764",
   "metadata": {},
   "outputs": [
    {
     "data": {
      "text/plain": [
       "'Lizhong'"
      ]
     },
     "execution_count": 87,
     "metadata": {},
     "output_type": "execute_result"
    }
   ],
   "source": [
    "friends[-2]"
   ]
  },
  {
   "cell_type": "code",
   "execution_count": 88,
   "id": "8657baca-baa7-455c-967b-1b1b95587639",
   "metadata": {},
   "outputs": [
    {
     "data": {
      "text/plain": [
       "[1.54, 'Lizhong']"
      ]
     },
     "execution_count": 88,
     "metadata": {},
     "output_type": "execute_result"
    }
   ],
   "source": [
    "friends[1:3]"
   ]
  },
  {
   "cell_type": "code",
   "execution_count": 89,
   "id": "c01a580c-eb8a-401c-b657-a35758bdf34d",
   "metadata": {},
   "outputs": [
    {
     "data": {
      "text/plain": [
       "['Zhongxuan', 1.54, 'Lizhong']"
      ]
     },
     "execution_count": 89,
     "metadata": {},
     "output_type": "execute_result"
    }
   ],
   "source": [
    "friends[0:3]"
   ]
  },
  {
   "cell_type": "code",
   "execution_count": 90,
   "id": "b46abce1-63cc-4265-8ad6-77cb415bbcb4",
   "metadata": {},
   "outputs": [],
   "source": [
    "friends = [\"Zhongxuan\", 1.54, \"Lizhong\", 1.65]"
   ]
  },
  {
   "cell_type": "code",
   "execution_count": 91,
   "id": "86e7cb34-3e76-4764-92da-c550223b9a41",
   "metadata": {},
   "outputs": [],
   "source": [
    "friends[1]=1.53"
   ]
  },
  {
   "cell_type": "code",
   "execution_count": 92,
   "id": "0a8108f3-8c2f-4954-9733-b91498183b97",
   "metadata": {},
   "outputs": [
    {
     "data": {
      "text/plain": [
       "1.53"
      ]
     },
     "execution_count": 92,
     "metadata": {},
     "output_type": "execute_result"
    }
   ],
   "source": [
    "friends[1]"
   ]
  },
  {
   "cell_type": "code",
   "execution_count": 93,
   "id": "99ce05db-3c9d-4a3a-89f8-fc7b9292c535",
   "metadata": {},
   "outputs": [],
   "source": [
    "friends_ext = friends + [\"Yi\", 1.50]"
   ]
  },
  {
   "cell_type": "code",
   "execution_count": 94,
   "id": "98443868-8233-48d7-8370-7a6d1d1150e2",
   "metadata": {},
   "outputs": [
    {
     "name": "stdout",
     "output_type": "stream",
     "text": [
      "['Zhongxuan', 1.53, 'Lizhong', 1.65, 'Yi', 1.5]\n"
     ]
    }
   ],
   "source": [
    "print(friends_ext)"
   ]
  },
  {
   "cell_type": "code",
   "execution_count": 98,
   "id": "43676c4d-d657-4d22-8892-d133ff88296d",
   "metadata": {},
   "outputs": [],
   "source": [
    "del friends_ext[2]"
   ]
  },
  {
   "cell_type": "raw",
   "id": "fd5882c5-aaf4-412c-a0ba-28d846d08906",
   "metadata": {},
   "source": [
    "friends_ext"
   ]
  },
  {
   "cell_type": "code",
   "execution_count": 99,
   "id": "3b217dfa-8196-4cab-b9ff-362e47acb2f6",
   "metadata": {},
   "outputs": [
    {
     "name": "stdout",
     "output_type": "stream",
     "text": [
      "['Zhongxuan', 1.53, 1.5]\n"
     ]
    }
   ],
   "source": [
    "print(friends_ext)"
   ]
  },
  {
   "cell_type": "code",
   "execution_count": null,
   "id": "0afb3fb9-cc93-407d-94ec-7144c2a57e37",
   "metadata": {},
   "outputs": [],
   "source": []
  }
 ],
 "metadata": {
  "kernelspec": {
   "display_name": "Python [conda env:base] *",
   "language": "python",
   "name": "conda-base-py"
  },
  "language_info": {
   "codemirror_mode": {
    "name": "ipython",
    "version": 3
   },
   "file_extension": ".py",
   "mimetype": "text/x-python",
   "name": "python",
   "nbconvert_exporter": "python",
   "pygments_lexer": "ipython3",
   "version": "3.12.7"
  }
 },
 "nbformat": 4,
 "nbformat_minor": 5
}
